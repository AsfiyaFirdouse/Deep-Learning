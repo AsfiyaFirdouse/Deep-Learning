{
  "nbformat": 4,
  "nbformat_minor": 0,
  "metadata": {
    "colab": {
      "provenance": [],
      "mount_file_id": "1QwEVcu5mfTpCMm4LYPTtjs94405eTbzA",
      "authorship_tag": "ABX9TyMq2g7s7lBuBa+ev19BV3zj",
      "include_colab_link": true
    },
    "kernelspec": {
      "name": "python3",
      "display_name": "Python 3"
    },
    "language_info": {
      "name": "python"
    },
    "widgets": {
      "application/vnd.jupyter.widget-state+json": {
        "a6d04f4425aa45f6868c99b700180056": {
          "model_module": "@jupyter-widgets/controls",
          "model_name": "HBoxModel",
          "model_module_version": "1.5.0",
          "state": {
            "_dom_classes": [],
            "_model_module": "@jupyter-widgets/controls",
            "_model_module_version": "1.5.0",
            "_model_name": "HBoxModel",
            "_view_count": null,
            "_view_module": "@jupyter-widgets/controls",
            "_view_module_version": "1.5.0",
            "_view_name": "HBoxView",
            "box_style": "",
            "children": [
              "IPY_MODEL_d6a0bb7ad63b44a58e79d68af33e2496",
              "IPY_MODEL_3ca7866b3a014ed79e2d9e8660f8018e",
              "IPY_MODEL_4c2c9dcb99444c24acd7154420e0f246"
            ],
            "layout": "IPY_MODEL_22e9a5f9d5c34da2b23a77326c3c2873"
          }
        },
        "d6a0bb7ad63b44a58e79d68af33e2496": {
          "model_module": "@jupyter-widgets/controls",
          "model_name": "HTMLModel",
          "model_module_version": "1.5.0",
          "state": {
            "_dom_classes": [],
            "_model_module": "@jupyter-widgets/controls",
            "_model_module_version": "1.5.0",
            "_model_name": "HTMLModel",
            "_view_count": null,
            "_view_module": "@jupyter-widgets/controls",
            "_view_module_version": "1.5.0",
            "_view_name": "HTMLView",
            "description": "",
            "description_tooltip": null,
            "layout": "IPY_MODEL_fc71683e5183490392aa63f07872fec4",
            "placeholder": "​",
            "style": "IPY_MODEL_f6f329588d9b439aab144dff46f93afa",
            "value": "100%"
          }
        },
        "3ca7866b3a014ed79e2d9e8660f8018e": {
          "model_module": "@jupyter-widgets/controls",
          "model_name": "FloatProgressModel",
          "model_module_version": "1.5.0",
          "state": {
            "_dom_classes": [],
            "_model_module": "@jupyter-widgets/controls",
            "_model_module_version": "1.5.0",
            "_model_name": "FloatProgressModel",
            "_view_count": null,
            "_view_module": "@jupyter-widgets/controls",
            "_view_module_version": "1.5.0",
            "_view_name": "ProgressView",
            "bar_style": "success",
            "description": "",
            "description_tooltip": null,
            "layout": "IPY_MODEL_ba277c0448374312a1705892ab944956",
            "max": 1000,
            "min": 0,
            "orientation": "horizontal",
            "style": "IPY_MODEL_c0da042c4ed44bb59931c1477c21fe55",
            "value": 1000
          }
        },
        "4c2c9dcb99444c24acd7154420e0f246": {
          "model_module": "@jupyter-widgets/controls",
          "model_name": "HTMLModel",
          "model_module_version": "1.5.0",
          "state": {
            "_dom_classes": [],
            "_model_module": "@jupyter-widgets/controls",
            "_model_module_version": "1.5.0",
            "_model_name": "HTMLModel",
            "_view_count": null,
            "_view_module": "@jupyter-widgets/controls",
            "_view_module_version": "1.5.0",
            "_view_name": "HTMLView",
            "description": "",
            "description_tooltip": null,
            "layout": "IPY_MODEL_6ae38d77963b41f2b938fadf94528b7b",
            "placeholder": "​",
            "style": "IPY_MODEL_4186cdad2e4545f1af833e9937115c86",
            "value": " 1000/1000 [00:11&lt;00:00, 94.38it/s]"
          }
        },
        "22e9a5f9d5c34da2b23a77326c3c2873": {
          "model_module": "@jupyter-widgets/base",
          "model_name": "LayoutModel",
          "model_module_version": "1.2.0",
          "state": {
            "_model_module": "@jupyter-widgets/base",
            "_model_module_version": "1.2.0",
            "_model_name": "LayoutModel",
            "_view_count": null,
            "_view_module": "@jupyter-widgets/base",
            "_view_module_version": "1.2.0",
            "_view_name": "LayoutView",
            "align_content": null,
            "align_items": null,
            "align_self": null,
            "border": null,
            "bottom": null,
            "display": null,
            "flex": null,
            "flex_flow": null,
            "grid_area": null,
            "grid_auto_columns": null,
            "grid_auto_flow": null,
            "grid_auto_rows": null,
            "grid_column": null,
            "grid_gap": null,
            "grid_row": null,
            "grid_template_areas": null,
            "grid_template_columns": null,
            "grid_template_rows": null,
            "height": null,
            "justify_content": null,
            "justify_items": null,
            "left": null,
            "margin": null,
            "max_height": null,
            "max_width": null,
            "min_height": null,
            "min_width": null,
            "object_fit": null,
            "object_position": null,
            "order": null,
            "overflow": null,
            "overflow_x": null,
            "overflow_y": null,
            "padding": null,
            "right": null,
            "top": null,
            "visibility": null,
            "width": null
          }
        },
        "fc71683e5183490392aa63f07872fec4": {
          "model_module": "@jupyter-widgets/base",
          "model_name": "LayoutModel",
          "model_module_version": "1.2.0",
          "state": {
            "_model_module": "@jupyter-widgets/base",
            "_model_module_version": "1.2.0",
            "_model_name": "LayoutModel",
            "_view_count": null,
            "_view_module": "@jupyter-widgets/base",
            "_view_module_version": "1.2.0",
            "_view_name": "LayoutView",
            "align_content": null,
            "align_items": null,
            "align_self": null,
            "border": null,
            "bottom": null,
            "display": null,
            "flex": null,
            "flex_flow": null,
            "grid_area": null,
            "grid_auto_columns": null,
            "grid_auto_flow": null,
            "grid_auto_rows": null,
            "grid_column": null,
            "grid_gap": null,
            "grid_row": null,
            "grid_template_areas": null,
            "grid_template_columns": null,
            "grid_template_rows": null,
            "height": null,
            "justify_content": null,
            "justify_items": null,
            "left": null,
            "margin": null,
            "max_height": null,
            "max_width": null,
            "min_height": null,
            "min_width": null,
            "object_fit": null,
            "object_position": null,
            "order": null,
            "overflow": null,
            "overflow_x": null,
            "overflow_y": null,
            "padding": null,
            "right": null,
            "top": null,
            "visibility": null,
            "width": null
          }
        },
        "f6f329588d9b439aab144dff46f93afa": {
          "model_module": "@jupyter-widgets/controls",
          "model_name": "DescriptionStyleModel",
          "model_module_version": "1.5.0",
          "state": {
            "_model_module": "@jupyter-widgets/controls",
            "_model_module_version": "1.5.0",
            "_model_name": "DescriptionStyleModel",
            "_view_count": null,
            "_view_module": "@jupyter-widgets/base",
            "_view_module_version": "1.2.0",
            "_view_name": "StyleView",
            "description_width": ""
          }
        },
        "ba277c0448374312a1705892ab944956": {
          "model_module": "@jupyter-widgets/base",
          "model_name": "LayoutModel",
          "model_module_version": "1.2.0",
          "state": {
            "_model_module": "@jupyter-widgets/base",
            "_model_module_version": "1.2.0",
            "_model_name": "LayoutModel",
            "_view_count": null,
            "_view_module": "@jupyter-widgets/base",
            "_view_module_version": "1.2.0",
            "_view_name": "LayoutView",
            "align_content": null,
            "align_items": null,
            "align_self": null,
            "border": null,
            "bottom": null,
            "display": null,
            "flex": null,
            "flex_flow": null,
            "grid_area": null,
            "grid_auto_columns": null,
            "grid_auto_flow": null,
            "grid_auto_rows": null,
            "grid_column": null,
            "grid_gap": null,
            "grid_row": null,
            "grid_template_areas": null,
            "grid_template_columns": null,
            "grid_template_rows": null,
            "height": null,
            "justify_content": null,
            "justify_items": null,
            "left": null,
            "margin": null,
            "max_height": null,
            "max_width": null,
            "min_height": null,
            "min_width": null,
            "object_fit": null,
            "object_position": null,
            "order": null,
            "overflow": null,
            "overflow_x": null,
            "overflow_y": null,
            "padding": null,
            "right": null,
            "top": null,
            "visibility": null,
            "width": null
          }
        },
        "c0da042c4ed44bb59931c1477c21fe55": {
          "model_module": "@jupyter-widgets/controls",
          "model_name": "ProgressStyleModel",
          "model_module_version": "1.5.0",
          "state": {
            "_model_module": "@jupyter-widgets/controls",
            "_model_module_version": "1.5.0",
            "_model_name": "ProgressStyleModel",
            "_view_count": null,
            "_view_module": "@jupyter-widgets/base",
            "_view_module_version": "1.2.0",
            "_view_name": "StyleView",
            "bar_color": null,
            "description_width": ""
          }
        },
        "6ae38d77963b41f2b938fadf94528b7b": {
          "model_module": "@jupyter-widgets/base",
          "model_name": "LayoutModel",
          "model_module_version": "1.2.0",
          "state": {
            "_model_module": "@jupyter-widgets/base",
            "_model_module_version": "1.2.0",
            "_model_name": "LayoutModel",
            "_view_count": null,
            "_view_module": "@jupyter-widgets/base",
            "_view_module_version": "1.2.0",
            "_view_name": "LayoutView",
            "align_content": null,
            "align_items": null,
            "align_self": null,
            "border": null,
            "bottom": null,
            "display": null,
            "flex": null,
            "flex_flow": null,
            "grid_area": null,
            "grid_auto_columns": null,
            "grid_auto_flow": null,
            "grid_auto_rows": null,
            "grid_column": null,
            "grid_gap": null,
            "grid_row": null,
            "grid_template_areas": null,
            "grid_template_columns": null,
            "grid_template_rows": null,
            "height": null,
            "justify_content": null,
            "justify_items": null,
            "left": null,
            "margin": null,
            "max_height": null,
            "max_width": null,
            "min_height": null,
            "min_width": null,
            "object_fit": null,
            "object_position": null,
            "order": null,
            "overflow": null,
            "overflow_x": null,
            "overflow_y": null,
            "padding": null,
            "right": null,
            "top": null,
            "visibility": null,
            "width": null
          }
        },
        "4186cdad2e4545f1af833e9937115c86": {
          "model_module": "@jupyter-widgets/controls",
          "model_name": "DescriptionStyleModel",
          "model_module_version": "1.5.0",
          "state": {
            "_model_module": "@jupyter-widgets/controls",
            "_model_module_version": "1.5.0",
            "_model_name": "DescriptionStyleModel",
            "_view_count": null,
            "_view_module": "@jupyter-widgets/base",
            "_view_module_version": "1.2.0",
            "_view_name": "StyleView",
            "description_width": ""
          }
        }
      }
    }
  },
  "cells": [
    {
      "cell_type": "markdown",
      "metadata": {
        "id": "view-in-github",
        "colab_type": "text"
      },
      "source": [
        "<a href=\"https://colab.research.google.com/github/AsfiyaFirdouse/Deep-Learning/blob/main/CNN_Covid.ipynb\" target=\"_parent\"><img src=\"https://colab.research.google.com/assets/colab-badge.svg\" alt=\"Open In Colab\"/></a>"
      ]
    },
    {
      "cell_type": "code",
      "source": [
        "from keras.models import Sequential\n",
        "from keras.layers import Dense\n",
        "from keras.layers import Conv2D\n",
        "from keras.layers import MaxPooling2D\n",
        "from keras.layers import Flatten\n",
        "import numpy as np"
      ],
      "metadata": {
        "id": "KButrPXJLKMD"
      },
      "execution_count": null,
      "outputs": []
    },
    {
      "cell_type": "code",
      "source": [
        "model= Sequential()\n",
        "model.add(Conv2D(32, (3, 3), input_shape=(64, 64, 3), activation='relu'))\n",
        "model.add(MaxPooling2D((2, 2)))\n",
        "model.add(Conv2D(32, (3, 3), input_shape=(64, 64, 3), activation='relu'))\n",
        "model.add(MaxPooling2D((2, 2)))\n",
        "model.add(Conv2D(32, (3, 3), input_shape=(64, 64, 3), activation='relu'))\n",
        "model.add(MaxPooling2D((2, 2)))\n",
        "model.add(Flatten())\n",
        "model.add(Dense(128, activation='relu'))\n",
        "model.add(Dense(128, activation='relu'))\n",
        "model.add(Dense(128, activation='relu'))\n",
        "model.add(Dense(128, activation='relu'))\n",
        "model.add(Dense(1, activation='sigmoid'))\n",
        "model.compile(optimizer='adadelta', loss='binary_crossentropy', metrics=['accuracy'])"
      ],
      "metadata": {
        "id": "off_EcN-LMrk"
      },
      "execution_count": null,
      "outputs": []
    },
    {
      "cell_type": "code",
      "source": [
        "from keras.preprocessing.image import ImageDataGenerator\n",
        "train_datagen = ImageDataGenerator(rescale=1./255, shear_range=0.2, zoom_range=0.2, horizontal_flip=True)\n",
        "test_datagen = ImageDataGenerator(rescale=1./255)"
      ],
      "metadata": {
        "id": "kmWWY__7LPJR"
      },
      "execution_count": null,
      "outputs": []
    },
    {
      "cell_type": "code",
      "source": [
        "training_set= train_datagen.flow_from_directory(\"/content/drive/MyDrive/covid_data_updated/Train\", target_size=(64, 64), batch_size=8, class_mode='binary')\n",
        "test_set= test_datagen.flow_from_directory(\"/content/drive/MyDrive/covid_data_updated/test\", target_size=(64, 64), batch_size=8, class_mode='binary')"
      ],
      "metadata": {
        "colab": {
          "base_uri": "https://localhost:8080/"
        },
        "id": "rv2MSX6SLXLq",
        "outputId": "c40457e3-b005-475e-b5dd-89f08b823553"
      },
      "execution_count": null,
      "outputs": [
        {
          "output_type": "stream",
          "name": "stdout",
          "text": [
            "Found 238 images belonging to 2 classes.\n",
            "Found 39 images belonging to 2 classes.\n"
          ]
        }
      ]
    },
    {
      "cell_type": "code",
      "source": [
        "model.fit(training_set, steps_per_epoch=20, epochs=25)#batch_size is nothing but steps_per_epoch\n"
      ],
      "metadata": {
        "colab": {
          "base_uri": "https://localhost:8080/"
        },
        "id": "MteSUWDQMYnb",
        "outputId": "dab9048d-49fe-449b-f3e0-5c9c83d0dec0"
      },
      "execution_count": null,
      "outputs": [
        {
          "output_type": "stream",
          "name": "stdout",
          "text": [
            "Epoch 1/25\n",
            "20/20 [==============================] - 4s 109ms/step - loss: 0.6929 - accuracy: 0.5443\n",
            "Epoch 2/25\n",
            "20/20 [==============================] - 3s 139ms/step - loss: 0.6918 - accuracy: 0.5562\n",
            "Epoch 3/25\n",
            "20/20 [==============================] - 3s 157ms/step - loss: 0.6926 - accuracy: 0.5253\n",
            "Epoch 4/25\n",
            "20/20 [==============================] - 2s 104ms/step - loss: 0.6918 - accuracy: 0.5375\n",
            "Epoch 5/25\n",
            "20/20 [==============================] - 2s 108ms/step - loss: 0.6912 - accuracy: 0.5500\n",
            "Epoch 6/25\n",
            "20/20 [==============================] - 2s 107ms/step - loss: 0.6898 - accuracy: 0.5823\n",
            "Epoch 7/25\n",
            "20/20 [==============================] - 2s 109ms/step - loss: 0.6919 - accuracy: 0.5375\n",
            "Epoch 8/25\n",
            "20/20 [==============================] - 3s 136ms/step - loss: 0.6910 - accuracy: 0.5443\n",
            "Epoch 9/25\n",
            "20/20 [==============================] - 2s 117ms/step - loss: 0.6918 - accuracy: 0.5253\n",
            "Epoch 10/25\n",
            "20/20 [==============================] - 2s 111ms/step - loss: 0.6906 - accuracy: 0.5437\n",
            "Epoch 11/25\n",
            "20/20 [==============================] - 2s 110ms/step - loss: 0.6899 - accuracy: 0.5625\n",
            "Epoch 12/25\n",
            "20/20 [==============================] - 2s 117ms/step - loss: 0.6889 - accuracy: 0.5759\n",
            "Epoch 13/25\n",
            "20/20 [==============================] - 3s 160ms/step - loss: 0.6912 - accuracy: 0.5250\n",
            "Epoch 14/25\n",
            "20/20 [==============================] - 2s 104ms/step - loss: 0.6919 - accuracy: 0.5125\n",
            "Epoch 15/25\n",
            "20/20 [==============================] - 2s 104ms/step - loss: 0.6905 - accuracy: 0.5312\n",
            "Epoch 16/25\n",
            "20/20 [==============================] - 2s 106ms/step - loss: 0.6897 - accuracy: 0.5562\n",
            "Epoch 17/25\n",
            "20/20 [==============================] - 2s 115ms/step - loss: 0.6906 - accuracy: 0.5316\n",
            "Epoch 18/25\n",
            "20/20 [==============================] - 3s 159ms/step - loss: 0.6914 - accuracy: 0.5127\n",
            "Epoch 19/25\n",
            "20/20 [==============================] - 2s 109ms/step - loss: 0.6907 - accuracy: 0.5316\n",
            "Epoch 20/25\n",
            "20/20 [==============================] - 2s 105ms/step - loss: 0.6898 - accuracy: 0.5375\n",
            "Epoch 21/25\n",
            "20/20 [==============================] - 2s 103ms/step - loss: 0.6906 - accuracy: 0.5063\n",
            "Epoch 22/25\n",
            "20/20 [==============================] - 3s 126ms/step - loss: 0.6914 - accuracy: 0.5000\n",
            "Epoch 23/25\n",
            "20/20 [==============================] - 3s 156ms/step - loss: 0.6895 - accuracy: 0.5375\n",
            "Epoch 24/25\n",
            "20/20 [==============================] - 2s 122ms/step - loss: 0.6888 - accuracy: 0.5506\n",
            "Epoch 25/25\n",
            "20/20 [==============================] - 2s 102ms/step - loss: 0.6896 - accuracy: 0.5253\n"
          ]
        },
        {
          "output_type": "execute_result",
          "data": {
            "text/plain": [
              "<keras.src.callbacks.History at 0x7b67a0255a80>"
            ]
          },
          "metadata": {},
          "execution_count": 61
        }
      ]
    },
    {
      "cell_type": "code",
      "source": [
        "test_loss, test_acc = model.evaluate(test_set, verbose=2)\n",
        "print(\"\\n\\n\")\n",
        "print('Test Loss:\\t', test_loss,'\\n')\n",
        "print('Test accuracy:\\t', test_acc,'\\n')"
      ],
      "metadata": {
        "colab": {
          "base_uri": "https://localhost:8080/"
        },
        "id": "ka3xNVS5PP6S",
        "outputId": "0fed3505-bd1d-4277-f6b7-1e81cd50bff3"
      },
      "execution_count": null,
      "outputs": [
        {
          "output_type": "stream",
          "name": "stdout",
          "text": [
            "5/5 - 1s - loss: 0.6807 - accuracy: 0.7692 - 624ms/epoch - 125ms/step\n",
            "\n",
            "\n",
            "\n",
            "Test Loss:\t 0.680709958076477 \n",
            "\n",
            "Test accuracy:\t 0.7692307829856873 \n",
            "\n"
          ]
        }
      ]
    },
    {
      "cell_type": "code",
      "source": [
        "import tensorflow as tf"
      ],
      "metadata": {
        "id": "a9JXUlV9Wa86"
      },
      "execution_count": null,
      "outputs": []
    },
    {
      "cell_type": "code",
      "source": [
        "resnet_model=Sequential()\n",
        "pretrained_model=tf.keras.applications.ResNet50(include_top=False,weights='imagenet',input_shape=(64,64,3),pooling='avg', classes=2)\n",
        "#not going to train the model layers which is already trained\n",
        "for layer in pretrained_model.layers:\n",
        "  layer.trainable=False\n",
        "resnet_model.add(pretrained_model)\n",
        "resnet_model.add(Flatten())\n",
        "resnet_model.add(Dense(128, activation='relu'))\n",
        "resnet_model.add(Dense(56, activation='relu'))\n",
        "resnet_model.add(Dense(156, activation='relu'))\n",
        "resnet_model.add(Dense(32, activation='relu'))\n",
        "resnet_model.add(Dense(1, activation='sigmoid'))\n",
        "resnet_model.compile(optimizer='adadelta', loss='binary_crossentropy', metrics=['accuracy'])"
      ],
      "metadata": {
        "id": "HOIxTPOXXbie"
      },
      "execution_count": null,
      "outputs": []
    },
    {
      "cell_type": "code",
      "source": [
        "resnet_model.fit(training_set, steps_per_epoch=20, epochs=20)"
      ],
      "metadata": {
        "colab": {
          "base_uri": "https://localhost:8080/"
        },
        "id": "QNRR8X5-Xzeq",
        "outputId": "6de1b8fa-b09f-4b0e-95de-f435ba9f083e"
      },
      "execution_count": null,
      "outputs": [
        {
          "output_type": "stream",
          "name": "stdout",
          "text": [
            "Epoch 1/20\n",
            "20/20 [==============================] - 10s 170ms/step - loss: 0.6964 - accuracy: 0.2152\n",
            "Epoch 2/20\n",
            "20/20 [==============================] - 6s 283ms/step - loss: 0.6965 - accuracy: 0.2188\n",
            "Epoch 3/20\n",
            "20/20 [==============================] - 4s 175ms/step - loss: 0.6957 - accuracy: 0.2722\n",
            "Epoch 4/20\n",
            "20/20 [==============================] - 4s 171ms/step - loss: 0.6957 - accuracy: 0.2562\n",
            "Epoch 5/20\n",
            "20/20 [==============================] - 5s 251ms/step - loss: 0.6960 - accuracy: 0.2722\n",
            "Epoch 6/20\n",
            "20/20 [==============================] - 4s 170ms/step - loss: 0.6957 - accuracy: 0.2722\n",
            "Epoch 7/20\n",
            "20/20 [==============================] - 4s 170ms/step - loss: 0.6951 - accuracy: 0.2975\n",
            "Epoch 8/20\n",
            "20/20 [==============================] - 6s 284ms/step - loss: 0.6954 - accuracy: 0.2911\n",
            "Epoch 9/20\n",
            "20/20 [==============================] - 4s 170ms/step - loss: 0.6956 - accuracy: 0.2848\n",
            "Epoch 10/20\n",
            "20/20 [==============================] - 6s 286ms/step - loss: 0.6951 - accuracy: 0.3438\n",
            "Epoch 11/20\n",
            "20/20 [==============================] - 3s 168ms/step - loss: 0.6950 - accuracy: 0.3797\n",
            "Epoch 12/20\n",
            "20/20 [==============================] - 4s 206ms/step - loss: 0.6945 - accuracy: 0.4812\n",
            "Epoch 13/20\n",
            "20/20 [==============================] - 4s 196ms/step - loss: 0.6945 - accuracy: 0.4937\n",
            "Epoch 14/20\n",
            "20/20 [==============================] - 3s 167ms/step - loss: 0.6947 - accuracy: 0.4747\n",
            "Epoch 15/20\n",
            "20/20 [==============================] - 4s 192ms/step - loss: 0.6943 - accuracy: 0.5127\n",
            "Epoch 16/20\n",
            "20/20 [==============================] - 6s 267ms/step - loss: 0.6940 - accuracy: 0.5506\n",
            "Epoch 17/20\n",
            "20/20 [==============================] - 5s 221ms/step - loss: 0.6947 - accuracy: 0.5125\n",
            "Epoch 18/20\n",
            "20/20 [==============================] - 6s 304ms/step - loss: 0.6938 - accuracy: 0.5312\n",
            "Epoch 19/20\n",
            "20/20 [==============================] - 4s 174ms/step - loss: 0.6938 - accuracy: 0.5633\n",
            "Epoch 20/20\n",
            "20/20 [==============================] - 4s 174ms/step - loss: 0.6947 - accuracy: 0.5063\n"
          ]
        },
        {
          "output_type": "execute_result",
          "data": {
            "text/plain": [
              "<keras.src.callbacks.History at 0x7b67a3e89030>"
            ]
          },
          "metadata": {},
          "execution_count": 65
        }
      ]
    },
    {
      "cell_type": "code",
      "source": [
        "test_loss, test_acc = resnet_model.evaluate(test_set, verbose=2)\n",
        "print(\"\\n\\n\")\n",
        "print('Test Loss:\\t', test_loss,'\\n')\n",
        "print('Test accuracy:\\t', test_acc,'\\n')"
      ],
      "metadata": {
        "colab": {
          "base_uri": "https://localhost:8080/"
        },
        "id": "p_dcLfeVYaSy",
        "outputId": "ef1abf81-ed1e-47f5-9c8e-90ec52c72e32"
      },
      "execution_count": null,
      "outputs": [
        {
          "output_type": "stream",
          "name": "stdout",
          "text": [
            "5/5 - 3s - loss: 0.6867 - accuracy: 0.7436 - 3s/epoch - 561ms/step\n",
            "\n",
            "\n",
            "\n",
            "Test Loss:\t 0.6866593956947327 \n",
            "\n",
            "Test accuracy:\t 0.7435897588729858 \n",
            "\n"
          ]
        }
      ]
    },
    {
      "cell_type": "code",
      "source": [
        "from tensorflow.keras.applications.vgg16 import VGG16\n",
        "vgg_model=Sequential()\n",
        "base_model = VGG16(weights='imagenet', include_top=False, input_shape=(64, 64, 3))\n",
        "base_model.trainable = False\n",
        "vgg_model.add(base_model)\n",
        "vgg_model.add(Flatten())\n",
        "vgg_model.add(Dense(128, activation='relu'))\n",
        "vgg_model.add(Dense(1, activation='sigmoid'))\n",
        "vgg_model.compile(optimizer='adadelta', loss='binary_crossentropy', metrics=['accuracy'])\n"
      ],
      "metadata": {
        "id": "Vq1HHOwHcCxp"
      },
      "execution_count": null,
      "outputs": []
    },
    {
      "cell_type": "code",
      "source": [
        "vgg_model.fit(training_set, steps_per_epoch=20, epochs=20)"
      ],
      "metadata": {
        "colab": {
          "base_uri": "https://localhost:8080/"
        },
        "id": "eeRhf2HscN_g",
        "outputId": "c9fadf80-8085-4377-b9d3-d2bdb1fe4779"
      },
      "execution_count": null,
      "outputs": [
        {
          "output_type": "stream",
          "name": "stdout",
          "text": [
            "Epoch 1/20\n",
            "20/20 [==============================] - 10s 412ms/step - loss: 0.9301 - accuracy: 0.4810\n",
            "Epoch 2/20\n",
            "20/20 [==============================] - 10s 480ms/step - loss: 0.9723 - accuracy: 0.4430\n",
            "Epoch 3/20\n",
            "20/20 [==============================] - 9s 434ms/step - loss: 0.9574 - accuracy: 0.4375\n",
            "Epoch 4/20\n",
            "20/20 [==============================] - 9s 411ms/step - loss: 0.9036 - accuracy: 0.4747\n",
            "Epoch 5/20\n",
            "20/20 [==============================] - 10s 487ms/step - loss: 0.9065 - accuracy: 0.4563\n",
            "Epoch 6/20\n",
            "20/20 [==============================] - 7s 357ms/step - loss: 0.8981 - accuracy: 0.4430\n",
            "Epoch 7/20\n",
            "20/20 [==============================] - 9s 434ms/step - loss: 0.8834 - accuracy: 0.4430\n",
            "Epoch 8/20\n",
            "20/20 [==============================] - 9s 468ms/step - loss: 0.8331 - accuracy: 0.4750\n",
            "Epoch 9/20\n",
            "20/20 [==============================] - 7s 356ms/step - loss: 0.8123 - accuracy: 0.4810\n",
            "Epoch 10/20\n",
            "20/20 [==============================] - 9s 435ms/step - loss: 0.8067 - accuracy: 0.4873\n",
            "Epoch 11/20\n",
            "20/20 [==============================] - 9s 443ms/step - loss: 0.8332 - accuracy: 0.4494\n",
            "Epoch 12/20\n",
            "20/20 [==============================] - 8s 390ms/step - loss: 0.7975 - accuracy: 0.4688\n",
            "Epoch 13/20\n",
            "20/20 [==============================] - 9s 478ms/step - loss: 0.7875 - accuracy: 0.4684\n",
            "Epoch 14/20\n",
            "20/20 [==============================] - 8s 377ms/step - loss: 0.7302 - accuracy: 0.5380\n",
            "Epoch 15/20\n",
            "20/20 [==============================] - 7s 353ms/step - loss: 0.8102 - accuracy: 0.4304\n",
            "Epoch 16/20\n",
            "20/20 [==============================] - 9s 442ms/step - loss: 0.7374 - accuracy: 0.5125\n",
            "Epoch 17/20\n",
            "20/20 [==============================] - 9s 441ms/step - loss: 0.7609 - accuracy: 0.4747\n",
            "Epoch 18/20\n",
            "20/20 [==============================] - 7s 358ms/step - loss: 0.7559 - accuracy: 0.4620\n",
            "Epoch 19/20\n",
            "20/20 [==============================] - 9s 420ms/step - loss: 0.7588 - accuracy: 0.4500\n",
            "Epoch 20/20\n",
            "20/20 [==============================] - 9s 457ms/step - loss: 0.7485 - accuracy: 0.4430\n"
          ]
        },
        {
          "output_type": "execute_result",
          "data": {
            "text/plain": [
              "<keras.src.callbacks.History at 0x7b67add277f0>"
            ]
          },
          "metadata": {},
          "execution_count": 68
        }
      ]
    },
    {
      "cell_type": "code",
      "source": [
        "test_loss, test_acc = vgg_model.evaluate(test_set, verbose=2)\n",
        "print(\"\\n\\n\")\n",
        "print('Test Loss:\\t', test_loss,'\\n')\n",
        "print('Test accuracy:\\t', test_acc,'\\n')"
      ],
      "metadata": {
        "colab": {
          "base_uri": "https://localhost:8080/"
        },
        "id": "Cq6rT-9Jcwbg",
        "outputId": "775198a9-379a-42e9-9af9-25444c892d93"
      },
      "execution_count": null,
      "outputs": [
        {
          "output_type": "stream",
          "name": "stdout",
          "text": [
            "5/5 - 2s - loss: 1.0424 - accuracy: 0.2308 - 2s/epoch - 417ms/step\n",
            "\n",
            "\n",
            "\n",
            "Test Loss:\t 1.0423916578292847 \n",
            "\n",
            "Test accuracy:\t 0.23076923191547394 \n",
            "\n"
          ]
        }
      ]
    },
    {
      "cell_type": "code",
      "source": [
        "!pip install lime\n",
        "import lime\n",
        "from lime import lime_image"
      ],
      "metadata": {
        "colab": {
          "base_uri": "https://localhost:8080/"
        },
        "id": "u9OuA5fguQ-8",
        "outputId": "38d5686d-ca1c-4fcf-e906-bb3ad80c7788"
      },
      "execution_count": null,
      "outputs": [
        {
          "output_type": "stream",
          "name": "stdout",
          "text": [
            "Requirement already satisfied: lime in /usr/local/lib/python3.10/dist-packages (0.2.0.1)\n",
            "Requirement already satisfied: matplotlib in /usr/local/lib/python3.10/dist-packages (from lime) (3.7.1)\n",
            "Requirement already satisfied: numpy in /usr/local/lib/python3.10/dist-packages (from lime) (1.25.2)\n",
            "Requirement already satisfied: scipy in /usr/local/lib/python3.10/dist-packages (from lime) (1.11.4)\n",
            "Requirement already satisfied: tqdm in /usr/local/lib/python3.10/dist-packages (from lime) (4.66.4)\n",
            "Requirement already satisfied: scikit-learn>=0.18 in /usr/local/lib/python3.10/dist-packages (from lime) (1.2.2)\n",
            "Requirement already satisfied: scikit-image>=0.12 in /usr/local/lib/python3.10/dist-packages (from lime) (0.19.3)\n",
            "Requirement already satisfied: networkx>=2.2 in /usr/local/lib/python3.10/dist-packages (from scikit-image>=0.12->lime) (3.3)\n",
            "Requirement already satisfied: pillow!=7.1.0,!=7.1.1,!=8.3.0,>=6.1.0 in /usr/local/lib/python3.10/dist-packages (from scikit-image>=0.12->lime) (9.4.0)\n",
            "Requirement already satisfied: imageio>=2.4.1 in /usr/local/lib/python3.10/dist-packages (from scikit-image>=0.12->lime) (2.31.6)\n",
            "Requirement already satisfied: tifffile>=2019.7.26 in /usr/local/lib/python3.10/dist-packages (from scikit-image>=0.12->lime) (2024.5.22)\n",
            "Requirement already satisfied: PyWavelets>=1.1.1 in /usr/local/lib/python3.10/dist-packages (from scikit-image>=0.12->lime) (1.6.0)\n",
            "Requirement already satisfied: packaging>=20.0 in /usr/local/lib/python3.10/dist-packages (from scikit-image>=0.12->lime) (24.0)\n",
            "Requirement already satisfied: joblib>=1.1.1 in /usr/local/lib/python3.10/dist-packages (from scikit-learn>=0.18->lime) (1.4.2)\n",
            "Requirement already satisfied: threadpoolctl>=2.0.0 in /usr/local/lib/python3.10/dist-packages (from scikit-learn>=0.18->lime) (3.5.0)\n",
            "Requirement already satisfied: contourpy>=1.0.1 in /usr/local/lib/python3.10/dist-packages (from matplotlib->lime) (1.2.1)\n",
            "Requirement already satisfied: cycler>=0.10 in /usr/local/lib/python3.10/dist-packages (from matplotlib->lime) (0.12.1)\n",
            "Requirement already satisfied: fonttools>=4.22.0 in /usr/local/lib/python3.10/dist-packages (from matplotlib->lime) (4.53.0)\n",
            "Requirement already satisfied: kiwisolver>=1.0.1 in /usr/local/lib/python3.10/dist-packages (from matplotlib->lime) (1.4.5)\n",
            "Requirement already satisfied: pyparsing>=2.3.1 in /usr/local/lib/python3.10/dist-packages (from matplotlib->lime) (3.1.2)\n",
            "Requirement already satisfied: python-dateutil>=2.7 in /usr/local/lib/python3.10/dist-packages (from matplotlib->lime) (2.8.2)\n",
            "Requirement already satisfied: six>=1.5 in /usr/local/lib/python3.10/dist-packages (from python-dateutil>=2.7->matplotlib->lime) (1.16.0)\n"
          ]
        }
      ]
    },
    {
      "cell_type": "code",
      "source": [
        "tmp1, tmp2= test_set.next()\n",
        "print(tmp1.shape)#stores full info\n",
        "print(tmp2.shape)#stores no of images"
      ],
      "metadata": {
        "colab": {
          "base_uri": "https://localhost:8080/"
        },
        "id": "RGW0NWVDucIo",
        "outputId": "ad924b97-5d8f-4636-e3f9-1badb9ddf2a7"
      },
      "execution_count": null,
      "outputs": [
        {
          "output_type": "stream",
          "name": "stdout",
          "text": [
            "(8, 64, 64, 3)\n",
            "(8,)\n"
          ]
        }
      ]
    },
    {
      "cell_type": "code",
      "source": [
        "!pip install shap\n",
        "import shap\n"
      ],
      "metadata": {
        "colab": {
          "base_uri": "https://localhost:8080/"
        },
        "id": "U08kh7vgyhrV",
        "outputId": "3646a80c-73a0-4402-9b92-e2dd6dbb35da"
      },
      "execution_count": null,
      "outputs": [
        {
          "output_type": "stream",
          "name": "stdout",
          "text": [
            "Collecting shap\n",
            "  Downloading shap-0.45.1-cp310-cp310-manylinux_2_12_x86_64.manylinux2010_x86_64.manylinux_2_17_x86_64.manylinux2014_x86_64.whl (540 kB)\n",
            "\u001b[2K     \u001b[90m━━━━━━━━━━━━━━━━━━━━━━━━━━━━━━━━━━━━━━━━\u001b[0m \u001b[32m540.5/540.5 kB\u001b[0m \u001b[31m3.5 MB/s\u001b[0m eta \u001b[36m0:00:00\u001b[0m\n",
            "\u001b[?25hRequirement already satisfied: numpy in /usr/local/lib/python3.10/dist-packages (from shap) (1.25.2)\n",
            "Requirement already satisfied: scipy in /usr/local/lib/python3.10/dist-packages (from shap) (1.11.4)\n",
            "Requirement already satisfied: scikit-learn in /usr/local/lib/python3.10/dist-packages (from shap) (1.2.2)\n",
            "Requirement already satisfied: pandas in /usr/local/lib/python3.10/dist-packages (from shap) (2.0.3)\n",
            "Requirement already satisfied: tqdm>=4.27.0 in /usr/local/lib/python3.10/dist-packages (from shap) (4.66.4)\n",
            "Requirement already satisfied: packaging>20.9 in /usr/local/lib/python3.10/dist-packages (from shap) (24.0)\n",
            "Collecting slicer==0.0.8 (from shap)\n",
            "  Downloading slicer-0.0.8-py3-none-any.whl (15 kB)\n",
            "Requirement already satisfied: numba in /usr/local/lib/python3.10/dist-packages (from shap) (0.58.1)\n",
            "Requirement already satisfied: cloudpickle in /usr/local/lib/python3.10/dist-packages (from shap) (2.2.1)\n",
            "Requirement already satisfied: llvmlite<0.42,>=0.41.0dev0 in /usr/local/lib/python3.10/dist-packages (from numba->shap) (0.41.1)\n",
            "Requirement already satisfied: python-dateutil>=2.8.2 in /usr/local/lib/python3.10/dist-packages (from pandas->shap) (2.8.2)\n",
            "Requirement already satisfied: pytz>=2020.1 in /usr/local/lib/python3.10/dist-packages (from pandas->shap) (2023.4)\n",
            "Requirement already satisfied: tzdata>=2022.1 in /usr/local/lib/python3.10/dist-packages (from pandas->shap) (2024.1)\n",
            "Requirement already satisfied: joblib>=1.1.1 in /usr/local/lib/python3.10/dist-packages (from scikit-learn->shap) (1.4.2)\n",
            "Requirement already satisfied: threadpoolctl>=2.0.0 in /usr/local/lib/python3.10/dist-packages (from scikit-learn->shap) (3.5.0)\n",
            "Requirement already satisfied: six>=1.5 in /usr/local/lib/python3.10/dist-packages (from python-dateutil>=2.8.2->pandas->shap) (1.16.0)\n",
            "Installing collected packages: slicer, shap\n",
            "Successfully installed shap-0.45.1 slicer-0.0.8\n"
          ]
        }
      ]
    },
    {
      "cell_type": "code",
      "source": [
        "background= shap.utils.sample(tmp1, 5)\n",
        "explainer=shap.DeepExplainer(model, background)\n"
      ],
      "metadata": {
        "colab": {
          "base_uri": "https://localhost:8080/"
        },
        "id": "mCIq4K1wzPoV",
        "outputId": "c3027147-914c-427f-f10b-ca68d5958f36"
      },
      "execution_count": null,
      "outputs": [
        {
          "output_type": "stream",
          "name": "stderr",
          "text": [
            "/usr/local/lib/python3.10/dist-packages/shap/explainers/_deep/deep_tf.py:99: UserWarning: Your TensorFlow version is newer than 2.4.0 and so graph support has been removed in eager mode and some static graphs may not be supported. See PR #1483 for discussion.\n",
            "  warnings.warn(\"Your TensorFlow version is newer than 2.4.0 and so graph support has been removed in eager mode and some static graphs may not be supported. See PR #1483 for discussion.\")\n"
          ]
        }
      ]
    },
    {
      "cell_type": "code",
      "source": [
        "sample_index=np.random.randint(0, background.shape[0])\n",
        "sample_image=background[sample_index]"
      ],
      "metadata": {
        "id": "9Luiq0tyztUH"
      },
      "execution_count": null,
      "outputs": []
    },
    {
      "cell_type": "code",
      "source": [
        "explainer = lime_image.LimeImageExplainer()\n",
        "explanation = explainer.explain_instance(background[sample_index].astype('double'), model.predict, hide_color=0, num_samples=1000)"
      ],
      "metadata": {
        "colab": {
          "base_uri": "https://localhost:8080/",
          "height": 1000,
          "referenced_widgets": [
            "a6d04f4425aa45f6868c99b700180056",
            "d6a0bb7ad63b44a58e79d68af33e2496",
            "3ca7866b3a014ed79e2d9e8660f8018e",
            "4c2c9dcb99444c24acd7154420e0f246",
            "22e9a5f9d5c34da2b23a77326c3c2873",
            "fc71683e5183490392aa63f07872fec4",
            "f6f329588d9b439aab144dff46f93afa",
            "ba277c0448374312a1705892ab944956",
            "c0da042c4ed44bb59931c1477c21fe55",
            "6ae38d77963b41f2b938fadf94528b7b",
            "4186cdad2e4545f1af833e9937115c86"
          ]
        },
        "id": "g7ZPf4kw0Fc6",
        "outputId": "77958f3a-344e-41fe-f7e3-e541d48d2f9f"
      },
      "execution_count": null,
      "outputs": [
        {
          "output_type": "display_data",
          "data": {
            "text/plain": [
              "  0%|          | 0/1000 [00:00<?, ?it/s]"
            ],
            "application/vnd.jupyter.widget-view+json": {
              "version_major": 2,
              "version_minor": 0,
              "model_id": "a6d04f4425aa45f6868c99b700180056"
            }
          },
          "metadata": {}
        },
        {
          "output_type": "stream",
          "name": "stdout",
          "text": [
            "1/1 [==============================] - 0s 31ms/step\n",
            "1/1 [==============================] - 0s 32ms/step\n",
            "1/1 [==============================] - 0s 32ms/step\n",
            "1/1 [==============================] - 0s 30ms/step\n",
            "1/1 [==============================] - 0s 31ms/step\n",
            "1/1 [==============================] - 0s 30ms/step\n",
            "1/1 [==============================] - 0s 30ms/step\n",
            "1/1 [==============================] - 0s 31ms/step\n",
            "1/1 [==============================] - 0s 30ms/step\n",
            "1/1 [==============================] - 0s 44ms/step\n",
            "1/1 [==============================] - 0s 29ms/step\n",
            "1/1 [==============================] - 0s 31ms/step\n",
            "1/1 [==============================] - 0s 29ms/step\n",
            "1/1 [==============================] - 0s 28ms/step\n",
            "1/1 [==============================] - 0s 31ms/step\n",
            "1/1 [==============================] - 0s 34ms/step\n",
            "1/1 [==============================] - 0s 29ms/step\n",
            "1/1 [==============================] - 0s 31ms/step\n",
            "1/1 [==============================] - 0s 37ms/step\n",
            "1/1 [==============================] - 0s 40ms/step\n",
            "1/1 [==============================] - 0s 30ms/step\n",
            "1/1 [==============================] - 0s 30ms/step\n",
            "1/1 [==============================] - 0s 28ms/step\n",
            "1/1 [==============================] - 0s 29ms/step\n",
            "1/1 [==============================] - 0s 35ms/step\n",
            "1/1 [==============================] - 0s 29ms/step\n",
            "1/1 [==============================] - 0s 33ms/step\n",
            "1/1 [==============================] - 0s 31ms/step\n",
            "1/1 [==============================] - 0s 30ms/step\n",
            "1/1 [==============================] - 0s 31ms/step\n",
            "1/1 [==============================] - 0s 34ms/step\n",
            "1/1 [==============================] - 0s 33ms/step\n",
            "1/1 [==============================] - 0s 29ms/step\n",
            "1/1 [==============================] - 0s 28ms/step\n",
            "1/1 [==============================] - 0s 45ms/step\n",
            "1/1 [==============================] - 0s 51ms/step\n",
            "1/1 [==============================] - 0s 54ms/step\n",
            "1/1 [==============================] - 0s 44ms/step\n",
            "1/1 [==============================] - 0s 46ms/step\n",
            "1/1 [==============================] - 0s 54ms/step\n",
            "1/1 [==============================] - 0s 53ms/step\n",
            "1/1 [==============================] - 0s 45ms/step\n",
            "1/1 [==============================] - 0s 52ms/step\n",
            "1/1 [==============================] - 0s 49ms/step\n",
            "1/1 [==============================] - 0s 66ms/step\n",
            "1/1 [==============================] - 0s 48ms/step\n",
            "1/1 [==============================] - 0s 50ms/step\n",
            "1/1 [==============================] - 0s 55ms/step\n",
            "1/1 [==============================] - 0s 47ms/step\n",
            "1/1 [==============================] - 0s 50ms/step\n",
            "1/1 [==============================] - 0s 43ms/step\n",
            "1/1 [==============================] - 0s 55ms/step\n",
            "1/1 [==============================] - 0s 54ms/step\n",
            "1/1 [==============================] - 0s 54ms/step\n",
            "1/1 [==============================] - 0s 49ms/step\n",
            "1/1 [==============================] - 0s 48ms/step\n",
            "1/1 [==============================] - 0s 48ms/step\n",
            "1/1 [==============================] - 0s 56ms/step\n",
            "1/1 [==============================] - 0s 73ms/step\n",
            "1/1 [==============================] - 0s 46ms/step\n",
            "1/1 [==============================] - 0s 49ms/step\n",
            "1/1 [==============================] - 0s 43ms/step\n",
            "1/1 [==============================] - 0s 30ms/step\n",
            "1/1 [==============================] - 0s 29ms/step\n",
            "1/1 [==============================] - 0s 32ms/step\n",
            "1/1 [==============================] - 0s 29ms/step\n",
            "1/1 [==============================] - 0s 34ms/step\n",
            "1/1 [==============================] - 0s 30ms/step\n",
            "1/1 [==============================] - 0s 30ms/step\n",
            "1/1 [==============================] - 0s 31ms/step\n",
            "1/1 [==============================] - 0s 33ms/step\n",
            "1/1 [==============================] - 0s 30ms/step\n",
            "1/1 [==============================] - 0s 30ms/step\n",
            "1/1 [==============================] - 0s 32ms/step\n",
            "1/1 [==============================] - 0s 30ms/step\n",
            "1/1 [==============================] - 0s 40ms/step\n",
            "1/1 [==============================] - 0s 52ms/step\n",
            "1/1 [==============================] - 0s 28ms/step\n",
            "1/1 [==============================] - 0s 29ms/step\n",
            "1/1 [==============================] - 0s 31ms/step\n",
            "1/1 [==============================] - 0s 30ms/step\n",
            "1/1 [==============================] - 0s 32ms/step\n",
            "1/1 [==============================] - 0s 30ms/step\n",
            "1/1 [==============================] - 0s 28ms/step\n",
            "1/1 [==============================] - 0s 32ms/step\n",
            "1/1 [==============================] - 0s 29ms/step\n",
            "1/1 [==============================] - 0s 33ms/step\n",
            "1/1 [==============================] - 0s 31ms/step\n",
            "1/1 [==============================] - 0s 30ms/step\n",
            "1/1 [==============================] - 0s 30ms/step\n",
            "1/1 [==============================] - 0s 33ms/step\n",
            "1/1 [==============================] - 0s 29ms/step\n",
            "1/1 [==============================] - 0s 29ms/step\n",
            "1/1 [==============================] - 0s 30ms/step\n",
            "1/1 [==============================] - 0s 28ms/step\n",
            "1/1 [==============================] - 0s 37ms/step\n",
            "1/1 [==============================] - 0s 31ms/step\n",
            "1/1 [==============================] - 0s 29ms/step\n",
            "1/1 [==============================] - 0s 30ms/step\n",
            "1/1 [==============================] - 0s 29ms/step\n"
          ]
        }
      ]
    },
    {
      "cell_type": "code",
      "source": [
        "import matplotlib.pyplot as plt\n",
        "plt.imshow(background[sample_index])\n",
        "plt.title('Original Image')\n",
        "plt.axis('off')\n",
        "plt.show()"
      ],
      "metadata": {
        "colab": {
          "base_uri": "https://localhost:8080/",
          "height": 428
        },
        "id": "yTLUK_2k1GMl",
        "outputId": "16479357-2cef-4b33-83bb-9e8fdc6e85e8"
      },
      "execution_count": null,
      "outputs": [
        {
          "output_type": "display_data",
          "data": {
            "text/plain": [
              "<Figure size 640x480 with 1 Axes>"
            ],
            "image/png": "[encoded data removed]"
          },
          "metadata": {}
        }
      ]
    },
    {
      "cell_type": "code",
      "source": [
        "from skimage.segmentation import mark_boundaries\n",
        "temp, mask = explanation.get_image_and_mask(explanation.top_labels[0], positive_only=True, num_features=5, hide_rest=False)\n",
        "plt.imshow(mark_boundaries(temp, mask))\n",
        "plt.title(\"LIME Explanation\")\n",
        "plt.show()"
      ],
      "metadata": {
        "colab": {
          "base_uri": "https://localhost:8080/",
          "height": 452
        },
        "id": "SoFw0GyS1Lgt",
        "outputId": "f3a78502-3513-469b-a156-a450296b50e0"
      },
      "execution_count": null,
      "outputs": [
        {
          "output_type": "display_data",
          "data": {
            "text/plain": [
              "<Figure size 640x480 with 1 Axes>"
            ],
            "image/png": "[encoded data removed]"
          },
          "metadata": {}
        }
      ]
    },
    {
      "cell_type": "code",
      "source": [
        "sample_image_batch = np.expand_dims(sample_image, axis=0)  # Add batch dimension\n",
        "shap_values = explainer.shap_values(sample_image_batch)\n",
        "sampled_images_array_scaled = sample_image_batch * 255\n",
        "sampled_images_array_scaled = sampled_images_array_scaled.astype(np.uint8)\n",
        "\n",
        "shap.image_plot(shap_values,sampled_images_array_scaled)\n",
        "print(sampled_images_array_scaled.shape)\n",
        "print(np.min(shap_values))\n",
        "print(np.max(shap_values))"
      ],
      "metadata": {
        "colab": {
          "base_uri": "https://localhost:8080/",
          "height": 211
        },
        "id": "jSPcZwGM2RVl",
        "outputId": "7c6c8cd1-db4e-4906-826c-5eacb4b09d9b"
      },
      "execution_count": null,
      "outputs": [
        {
          "output_type": "error",
          "ename": "AttributeError",
          "evalue": "'LimeImageExplainer' object has no attribute 'shap_values'",
          "traceback": [
            "\u001b[0;31m---------------------------------------------------------------------------\u001b[0m",
            "\u001b[0;31mAttributeError\u001b[0m                            Traceback (most recent call last)",
            "\u001b[0;32m<ipython-input-89-39baf0caaa5c>\u001b[0m in \u001b[0;36m<cell line: 2>\u001b[0;34m()\u001b[0m\n\u001b[1;32m      1\u001b[0m \u001b[0msample_image_batch\u001b[0m \u001b[0;34m=\u001b[0m \u001b[0mnp\u001b[0m\u001b[0;34m.\u001b[0m\u001b[0mexpand_dims\u001b[0m\u001b[0;34m(\u001b[0m\u001b[0msample_image\u001b[0m\u001b[0;34m,\u001b[0m \u001b[0maxis\u001b[0m\u001b[0;34m=\u001b[0m\u001b[0;36m0\u001b[0m\u001b[0;34m)\u001b[0m  \u001b[0;31m# Add batch dimension\u001b[0m\u001b[0;34m\u001b[0m\u001b[0;34m\u001b[0m\u001b[0m\n\u001b[0;32m----> 2\u001b[0;31m \u001b[0mshap_values\u001b[0m \u001b[0;34m=\u001b[0m \u001b[0mexplainer\u001b[0m\u001b[0;34m.\u001b[0m\u001b[0mshap_values\u001b[0m\u001b[0;34m(\u001b[0m\u001b[0msample_image_batch\u001b[0m\u001b[0;34m)\u001b[0m\u001b[0;34m\u001b[0m\u001b[0;34m\u001b[0m\u001b[0m\n\u001b[0m\u001b[1;32m      3\u001b[0m \u001b[0msampled_images_array_scaled\u001b[0m \u001b[0;34m=\u001b[0m \u001b[0msample_image_batch\u001b[0m \u001b[0;34m*\u001b[0m \u001b[0;36m255\u001b[0m\u001b[0;34m\u001b[0m\u001b[0;34m\u001b[0m\u001b[0m\n\u001b[1;32m      4\u001b[0m \u001b[0msampled_images_array_scaled\u001b[0m \u001b[0;34m=\u001b[0m \u001b[0msampled_images_array_scaled\u001b[0m\u001b[0;34m.\u001b[0m\u001b[0mastype\u001b[0m\u001b[0;34m(\u001b[0m\u001b[0mnp\u001b[0m\u001b[0;34m.\u001b[0m\u001b[0muint8\u001b[0m\u001b[0;34m)\u001b[0m\u001b[0;34m\u001b[0m\u001b[0;34m\u001b[0m\u001b[0m\n\u001b[1;32m      5\u001b[0m \u001b[0;34m\u001b[0m\u001b[0m\n",
            "\u001b[0;31mAttributeError\u001b[0m: 'LimeImageExplainer' object has no attribute 'shap_values'"
          ]
        }
      ]
    },
    {
      "cell_type": "code",
      "source": [],
      "metadata": {
        "id": "GIsI5cRm2SNl"
      },
      "execution_count": null,
      "outputs": []
    }
  ]
}